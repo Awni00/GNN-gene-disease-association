{
 "cells": [
  {
   "cell_type": "markdown",
   "metadata": {},
   "source": [
    "# Non-Graph Modeling\n",
    "\n",
    "Some modeling done purely on node features (i.e. no network yet)"
   ]
  },
  {
   "cell_type": "code",
   "execution_count": 1,
   "metadata": {},
   "outputs": [],
   "source": [
    "import pandas as pd\n",
    "import numpy as np"
   ]
  },
  {
   "cell_type": "markdown",
   "metadata": {},
   "source": [
    "## Data Prep"
   ]
  },
  {
   "cell_type": "markdown",
   "metadata": {},
   "source": [
    "Note: Here, we use data from the Human Protein Atlas along with labels based on OMIM searches. The labels implicityly assume that if a gene does not come up as positive in a search then it is not associated with LUAD. This assumption is not correct. A more careful labeling method is required. Thus, we can't draw any conclusions from the results of this notebook; we merely hope to gain some insights on the node features."
   ]
  },
  {
   "cell_type": "code",
   "execution_count": 2,
   "metadata": {},
   "outputs": [
    {
     "data": {
      "text/html": [
       "<div>\n",
       "<style scoped>\n",
       "    .dataframe tbody tr th:only-of-type {\n",
       "        vertical-align: middle;\n",
       "    }\n",
       "\n",
       "    .dataframe tbody tr th {\n",
       "        vertical-align: top;\n",
       "    }\n",
       "\n",
       "    .dataframe thead th {\n",
       "        text-align: right;\n",
       "    }\n",
       "</style>\n",
       "<table border=\"1\" class=\"dataframe\">\n",
       "  <thead>\n",
       "    <tr style=\"text-align: right;\">\n",
       "      <th></th>\n",
       "      <th>Gene</th>\n",
       "      <th>Gene synonym</th>\n",
       "      <th>Uniprot</th>\n",
       "      <th>Disease involvement</th>\n",
       "      <th>Subcellular location</th>\n",
       "      <th>Pathology prognostics - Lung cancer</th>\n",
       "      <th>Tissue RNA - lung [NX]</th>\n",
       "      <th>Single Cell Type RNA - Mucus-secreting cells [NX]</th>\n",
       "      <th>0</th>\n",
       "      <th>1</th>\n",
       "      <th>...</th>\n",
       "      <th>95</th>\n",
       "      <th>96</th>\n",
       "      <th>97</th>\n",
       "      <th>98</th>\n",
       "      <th>99</th>\n",
       "      <th>OMIM_pos</th>\n",
       "      <th>PROG_F_pos</th>\n",
       "      <th>PROG_UF_pos</th>\n",
       "      <th>CANCER_FPKM_pos</th>\n",
       "      <th>Total_pos</th>\n",
       "    </tr>\n",
       "    <tr>\n",
       "      <th>Ensembl</th>\n",
       "      <th></th>\n",
       "      <th></th>\n",
       "      <th></th>\n",
       "      <th></th>\n",
       "      <th></th>\n",
       "      <th></th>\n",
       "      <th></th>\n",
       "      <th></th>\n",
       "      <th></th>\n",
       "      <th></th>\n",
       "      <th></th>\n",
       "      <th></th>\n",
       "      <th></th>\n",
       "      <th></th>\n",
       "      <th></th>\n",
       "      <th></th>\n",
       "      <th></th>\n",
       "      <th></th>\n",
       "      <th></th>\n",
       "      <th></th>\n",
       "      <th></th>\n",
       "    </tr>\n",
       "  </thead>\n",
       "  <tbody>\n",
       "    <tr>\n",
       "      <th>ENSG00000175899</th>\n",
       "      <td>A2M</td>\n",
       "      <td>CPAMD5, FWP007, S863-7</td>\n",
       "      <td>P01023</td>\n",
       "      <td>Cancer-related genes</td>\n",
       "      <td>NaN</td>\n",
       "      <td>unprognostic (3.65e-2)</td>\n",
       "      <td>227.4</td>\n",
       "      <td>0.0</td>\n",
       "      <td>0.395646</td>\n",
       "      <td>-0.212794</td>\n",
       "      <td>...</td>\n",
       "      <td>-0.010209</td>\n",
       "      <td>0.022287</td>\n",
       "      <td>0.019173</td>\n",
       "      <td>-0.048816</td>\n",
       "      <td>-0.023244</td>\n",
       "      <td>0</td>\n",
       "      <td>0</td>\n",
       "      <td>0</td>\n",
       "      <td>0</td>\n",
       "      <td>0</td>\n",
       "    </tr>\n",
       "    <tr>\n",
       "      <th>ENSG00000128274</th>\n",
       "      <td>A4GALT</td>\n",
       "      <td>A14GALT, Gb3S, P(k), P1</td>\n",
       "      <td>Q9NPC4</td>\n",
       "      <td>NaN</td>\n",
       "      <td>Mitochondria</td>\n",
       "      <td>unprognostic (2.10e-1)</td>\n",
       "      <td>14.0</td>\n",
       "      <td>0.0</td>\n",
       "      <td>0.569110</td>\n",
       "      <td>-0.864203</td>\n",
       "      <td>...</td>\n",
       "      <td>0.007013</td>\n",
       "      <td>0.023082</td>\n",
       "      <td>-0.007774</td>\n",
       "      <td>-0.004640</td>\n",
       "      <td>0.086262</td>\n",
       "      <td>0</td>\n",
       "      <td>0</td>\n",
       "      <td>0</td>\n",
       "      <td>0</td>\n",
       "      <td>0</td>\n",
       "    </tr>\n",
       "    <tr>\n",
       "      <th>ENSG00000094914</th>\n",
       "      <td>AAAS</td>\n",
       "      <td>NaN</td>\n",
       "      <td>Q9NRG9</td>\n",
       "      <td>Disease mutation</td>\n",
       "      <td>Nuclear membrane,Centrosome,Cytosol</td>\n",
       "      <td>unprognostic (1.70e-1)</td>\n",
       "      <td>13.4</td>\n",
       "      <td>11.5</td>\n",
       "      <td>1.325301</td>\n",
       "      <td>-0.550087</td>\n",
       "      <td>...</td>\n",
       "      <td>0.024812</td>\n",
       "      <td>0.009532</td>\n",
       "      <td>0.019740</td>\n",
       "      <td>0.058779</td>\n",
       "      <td>-0.033860</td>\n",
       "      <td>0</td>\n",
       "      <td>0</td>\n",
       "      <td>0</td>\n",
       "      <td>0</td>\n",
       "      <td>0</td>\n",
       "    </tr>\n",
       "    <tr>\n",
       "      <th>ENSG00000081760</th>\n",
       "      <td>AACS</td>\n",
       "      <td>ACSF1, FLJ12389, SUR-5</td>\n",
       "      <td>Q86V21</td>\n",
       "      <td>NaN</td>\n",
       "      <td>Vesicles</td>\n",
       "      <td>unprognostic (3.03e-2)</td>\n",
       "      <td>4.9</td>\n",
       "      <td>20.1</td>\n",
       "      <td>0.445957</td>\n",
       "      <td>-0.720734</td>\n",
       "      <td>...</td>\n",
       "      <td>-0.025242</td>\n",
       "      <td>-0.078717</td>\n",
       "      <td>0.034633</td>\n",
       "      <td>-0.020142</td>\n",
       "      <td>-0.155357</td>\n",
       "      <td>0</td>\n",
       "      <td>0</td>\n",
       "      <td>0</td>\n",
       "      <td>0</td>\n",
       "      <td>0</td>\n",
       "    </tr>\n",
       "    <tr>\n",
       "      <th>ENSG00000114771</th>\n",
       "      <td>AADAC</td>\n",
       "      <td>CES5A1, DAC</td>\n",
       "      <td>P22760</td>\n",
       "      <td>NaN</td>\n",
       "      <td>NaN</td>\n",
       "      <td>unprognostic (2.15e-1)</td>\n",
       "      <td>1.7</td>\n",
       "      <td>0.0</td>\n",
       "      <td>1.116300</td>\n",
       "      <td>-0.259656</td>\n",
       "      <td>...</td>\n",
       "      <td>0.042293</td>\n",
       "      <td>-0.002630</td>\n",
       "      <td>0.020109</td>\n",
       "      <td>-0.035264</td>\n",
       "      <td>-0.028654</td>\n",
       "      <td>0</td>\n",
       "      <td>0</td>\n",
       "      <td>0</td>\n",
       "      <td>0</td>\n",
       "      <td>0</td>\n",
       "    </tr>\n",
       "  </tbody>\n",
       "</table>\n",
       "<p>5 rows × 113 columns</p>\n",
       "</div>"
      ],
      "text/plain": [
       "                   Gene             Gene synonym Uniprot  \\\n",
       "Ensembl                                                    \n",
       "ENSG00000175899     A2M   CPAMD5, FWP007, S863-7  P01023   \n",
       "ENSG00000128274  A4GALT  A14GALT, Gb3S, P(k), P1  Q9NPC4   \n",
       "ENSG00000094914    AAAS                      NaN  Q9NRG9   \n",
       "ENSG00000081760    AACS   ACSF1, FLJ12389, SUR-5  Q86V21   \n",
       "ENSG00000114771   AADAC              CES5A1, DAC  P22760   \n",
       "\n",
       "                  Disease involvement                 Subcellular location  \\\n",
       "Ensembl                                                                      \n",
       "ENSG00000175899  Cancer-related genes                                  NaN   \n",
       "ENSG00000128274                   NaN                         Mitochondria   \n",
       "ENSG00000094914      Disease mutation  Nuclear membrane,Centrosome,Cytosol   \n",
       "ENSG00000081760                   NaN                             Vesicles   \n",
       "ENSG00000114771                   NaN                                  NaN   \n",
       "\n",
       "                Pathology prognostics - Lung cancer  Tissue RNA - lung [NX]  \\\n",
       "Ensembl                                                                       \n",
       "ENSG00000175899              unprognostic (3.65e-2)                   227.4   \n",
       "ENSG00000128274              unprognostic (2.10e-1)                    14.0   \n",
       "ENSG00000094914              unprognostic (1.70e-1)                    13.4   \n",
       "ENSG00000081760              unprognostic (3.03e-2)                     4.9   \n",
       "ENSG00000114771              unprognostic (2.15e-1)                     1.7   \n",
       "\n",
       "                 Single Cell Type RNA - Mucus-secreting cells [NX]         0  \\\n",
       "Ensembl                                                                        \n",
       "ENSG00000175899                                                0.0  0.395646   \n",
       "ENSG00000128274                                                0.0  0.569110   \n",
       "ENSG00000094914                                               11.5  1.325301   \n",
       "ENSG00000081760                                               20.1  0.445957   \n",
       "ENSG00000114771                                                0.0  1.116300   \n",
       "\n",
       "                        1  ...        95        96        97        98  \\\n",
       "Ensembl                    ...                                           \n",
       "ENSG00000175899 -0.212794  ... -0.010209  0.022287  0.019173 -0.048816   \n",
       "ENSG00000128274 -0.864203  ...  0.007013  0.023082 -0.007774 -0.004640   \n",
       "ENSG00000094914 -0.550087  ...  0.024812  0.009532  0.019740  0.058779   \n",
       "ENSG00000081760 -0.720734  ... -0.025242 -0.078717  0.034633 -0.020142   \n",
       "ENSG00000114771 -0.259656  ...  0.042293 -0.002630  0.020109 -0.035264   \n",
       "\n",
       "                       99  OMIM_pos  PROG_F_pos  PROG_UF_pos  CANCER_FPKM_pos  \\\n",
       "Ensembl                                                                         \n",
       "ENSG00000175899 -0.023244         0           0            0                0   \n",
       "ENSG00000128274  0.086262         0           0            0                0   \n",
       "ENSG00000094914 -0.033860         0           0            0                0   \n",
       "ENSG00000081760 -0.155357         0           0            0                0   \n",
       "ENSG00000114771 -0.028654         0           0            0                0   \n",
       "\n",
       "                 Total_pos  \n",
       "Ensembl                     \n",
       "ENSG00000175899          0  \n",
       "ENSG00000128274          0  \n",
       "ENSG00000094914          0  \n",
       "ENSG00000081760          0  \n",
       "ENSG00000114771          0  \n",
       "\n",
       "[5 rows x 113 columns]"
      ]
     },
     "execution_count": 2,
     "metadata": {},
     "output_type": "execute_result"
    }
   ],
   "source": [
    "HPA_data = pd.read_csv('data/HPA_Complete_v1.csv', index_col=0)\n",
    "HPA_data.set_index('Ensembl', inplace=True)\n",
    "HPA_data.head()"
   ]
  },
  {
   "cell_type": "code",
   "execution_count": 3,
   "metadata": {},
   "outputs": [
    {
     "data": {
      "text/html": [
       "<div>\n",
       "<style scoped>\n",
       "    .dataframe tbody tr th:only-of-type {\n",
       "        vertical-align: middle;\n",
       "    }\n",
       "\n",
       "    .dataframe tbody tr th {\n",
       "        vertical-align: top;\n",
       "    }\n",
       "\n",
       "    .dataframe thead th {\n",
       "        text-align: right;\n",
       "    }\n",
       "</style>\n",
       "<table border=\"1\" class=\"dataframe\">\n",
       "  <thead>\n",
       "    <tr style=\"text-align: right;\">\n",
       "      <th></th>\n",
       "      <th>Gene</th>\n",
       "      <th>Gene synonym</th>\n",
       "      <th>Uniprot</th>\n",
       "      <th>Disease involvement</th>\n",
       "      <th>Subcellular location</th>\n",
       "      <th>Pathology prognostics - Lung cancer</th>\n",
       "      <th>Tissue RNA - lung [NX]</th>\n",
       "      <th>Single Cell Type RNA - Mucus-secreting cells [NX]</th>\n",
       "      <th>0</th>\n",
       "      <th>1</th>\n",
       "      <th>...</th>\n",
       "      <th>95</th>\n",
       "      <th>96</th>\n",
       "      <th>97</th>\n",
       "      <th>98</th>\n",
       "      <th>99</th>\n",
       "      <th>OMIM_pos</th>\n",
       "      <th>PROG_F_pos</th>\n",
       "      <th>PROG_UF_pos</th>\n",
       "      <th>CANCER_FPKM_pos</th>\n",
       "      <th>Total_pos</th>\n",
       "    </tr>\n",
       "    <tr>\n",
       "      <th>Ensembl</th>\n",
       "      <th></th>\n",
       "      <th></th>\n",
       "      <th></th>\n",
       "      <th></th>\n",
       "      <th></th>\n",
       "      <th></th>\n",
       "      <th></th>\n",
       "      <th></th>\n",
       "      <th></th>\n",
       "      <th></th>\n",
       "      <th></th>\n",
       "      <th></th>\n",
       "      <th></th>\n",
       "      <th></th>\n",
       "      <th></th>\n",
       "      <th></th>\n",
       "      <th></th>\n",
       "      <th></th>\n",
       "      <th></th>\n",
       "      <th></th>\n",
       "      <th></th>\n",
       "    </tr>\n",
       "  </thead>\n",
       "  <tbody>\n",
       "    <tr>\n",
       "      <th>ENSG00000254692</th>\n",
       "      <td>AL136295.1</td>\n",
       "      <td>NaN</td>\n",
       "      <td>NaN</td>\n",
       "      <td>NaN</td>\n",
       "      <td>Golgi apparatus</td>\n",
       "      <td>NaN</td>\n",
       "      <td>7.0</td>\n",
       "      <td>0.0</td>\n",
       "      <td>0.182367</td>\n",
       "      <td>-0.404351</td>\n",
       "      <td>...</td>\n",
       "      <td>-0.002590</td>\n",
       "      <td>-0.002070</td>\n",
       "      <td>0.002401</td>\n",
       "      <td>0.003802</td>\n",
       "      <td>0.002711</td>\n",
       "      <td>0</td>\n",
       "      <td>0</td>\n",
       "      <td>0</td>\n",
       "      <td>0</td>\n",
       "      <td>0</td>\n",
       "    </tr>\n",
       "    <tr>\n",
       "      <th>ENSG00000131747</th>\n",
       "      <td>TOP2A</td>\n",
       "      <td>TOP2</td>\n",
       "      <td>P11388</td>\n",
       "      <td>Cancer-related genes, FDA approved drug targets</td>\n",
       "      <td>Nucleoplasm,Nucleoli</td>\n",
       "      <td>prognostic unfavorable (4.99e-4)</td>\n",
       "      <td>5.5</td>\n",
       "      <td>5.9</td>\n",
       "      <td>1.545940</td>\n",
       "      <td>-0.035698</td>\n",
       "      <td>...</td>\n",
       "      <td>-0.046726</td>\n",
       "      <td>-0.005839</td>\n",
       "      <td>-0.018328</td>\n",
       "      <td>-0.003894</td>\n",
       "      <td>-0.058346</td>\n",
       "      <td>0</td>\n",
       "      <td>0</td>\n",
       "      <td>1</td>\n",
       "      <td>0</td>\n",
       "      <td>1</td>\n",
       "    </tr>\n",
       "    <tr>\n",
       "      <th>ENSG00000165275</th>\n",
       "      <td>TRMT10B</td>\n",
       "      <td>bA3J10.9, FLJ31455, RG9MTD3</td>\n",
       "      <td>Q6PF06</td>\n",
       "      <td>NaN</td>\n",
       "      <td>Nucleoplasm,Plasma membrane</td>\n",
       "      <td>prognostic favorable (3.91e-4)</td>\n",
       "      <td>8.6</td>\n",
       "      <td>12.9</td>\n",
       "      <td>1.152200</td>\n",
       "      <td>-0.299540</td>\n",
       "      <td>...</td>\n",
       "      <td>0.024222</td>\n",
       "      <td>-0.006081</td>\n",
       "      <td>0.031750</td>\n",
       "      <td>-0.004874</td>\n",
       "      <td>0.025895</td>\n",
       "      <td>0</td>\n",
       "      <td>1</td>\n",
       "      <td>0</td>\n",
       "      <td>0</td>\n",
       "      <td>1</td>\n",
       "    </tr>\n",
       "    <tr>\n",
       "      <th>ENSG00000138160</th>\n",
       "      <td>KIF11</td>\n",
       "      <td>Eg5, HKSP, KNSL1, TRIP5</td>\n",
       "      <td>P52732</td>\n",
       "      <td>Disease mutation</td>\n",
       "      <td>Mitotic spindle,Cytosol</td>\n",
       "      <td>prognostic unfavorable (3.27e-4)</td>\n",
       "      <td>2.8</td>\n",
       "      <td>1.9</td>\n",
       "      <td>1.361867</td>\n",
       "      <td>-0.239267</td>\n",
       "      <td>...</td>\n",
       "      <td>-0.017084</td>\n",
       "      <td>0.003806</td>\n",
       "      <td>0.002640</td>\n",
       "      <td>0.019940</td>\n",
       "      <td>-0.002632</td>\n",
       "      <td>0</td>\n",
       "      <td>0</td>\n",
       "      <td>1</td>\n",
       "      <td>0</td>\n",
       "      <td>1</td>\n",
       "    </tr>\n",
       "    <tr>\n",
       "      <th>ENSG00000133612</th>\n",
       "      <td>AGAP3</td>\n",
       "      <td>CENTG3</td>\n",
       "      <td>Q96P47</td>\n",
       "      <td>NaN</td>\n",
       "      <td>NaN</td>\n",
       "      <td>unprognostic (2.05e-2)</td>\n",
       "      <td>21.4</td>\n",
       "      <td>9.1</td>\n",
       "      <td>0.808818</td>\n",
       "      <td>0.083761</td>\n",
       "      <td>...</td>\n",
       "      <td>-0.001807</td>\n",
       "      <td>-0.014019</td>\n",
       "      <td>-0.002411</td>\n",
       "      <td>0.000069</td>\n",
       "      <td>-0.003030</td>\n",
       "      <td>0</td>\n",
       "      <td>0</td>\n",
       "      <td>0</td>\n",
       "      <td>0</td>\n",
       "      <td>0</td>\n",
       "    </tr>\n",
       "  </tbody>\n",
       "</table>\n",
       "<p>5 rows × 113 columns</p>\n",
       "</div>"
      ],
      "text/plain": [
       "                       Gene                 Gene synonym Uniprot  \\\n",
       "Ensembl                                                            \n",
       "ENSG00000254692  AL136295.1                          NaN     NaN   \n",
       "ENSG00000131747       TOP2A                         TOP2  P11388   \n",
       "ENSG00000165275     TRMT10B  bA3J10.9, FLJ31455, RG9MTD3  Q6PF06   \n",
       "ENSG00000138160       KIF11      Eg5, HKSP, KNSL1, TRIP5  P52732   \n",
       "ENSG00000133612       AGAP3                       CENTG3  Q96P47   \n",
       "\n",
       "                                             Disease involvement  \\\n",
       "Ensembl                                                            \n",
       "ENSG00000254692                                              NaN   \n",
       "ENSG00000131747  Cancer-related genes, FDA approved drug targets   \n",
       "ENSG00000165275                                              NaN   \n",
       "ENSG00000138160                                 Disease mutation   \n",
       "ENSG00000133612                                              NaN   \n",
       "\n",
       "                        Subcellular location  \\\n",
       "Ensembl                                        \n",
       "ENSG00000254692              Golgi apparatus   \n",
       "ENSG00000131747         Nucleoplasm,Nucleoli   \n",
       "ENSG00000165275  Nucleoplasm,Plasma membrane   \n",
       "ENSG00000138160      Mitotic spindle,Cytosol   \n",
       "ENSG00000133612                          NaN   \n",
       "\n",
       "                Pathology prognostics - Lung cancer  Tissue RNA - lung [NX]  \\\n",
       "Ensembl                                                                       \n",
       "ENSG00000254692                                 NaN                     7.0   \n",
       "ENSG00000131747    prognostic unfavorable (4.99e-4)                     5.5   \n",
       "ENSG00000165275      prognostic favorable (3.91e-4)                     8.6   \n",
       "ENSG00000138160    prognostic unfavorable (3.27e-4)                     2.8   \n",
       "ENSG00000133612              unprognostic (2.05e-2)                    21.4   \n",
       "\n",
       "                 Single Cell Type RNA - Mucus-secreting cells [NX]         0  \\\n",
       "Ensembl                                                                        \n",
       "ENSG00000254692                                                0.0  0.182367   \n",
       "ENSG00000131747                                                5.9  1.545940   \n",
       "ENSG00000165275                                               12.9  1.152200   \n",
       "ENSG00000138160                                                1.9  1.361867   \n",
       "ENSG00000133612                                                9.1  0.808818   \n",
       "\n",
       "                        1  ...        95        96        97        98  \\\n",
       "Ensembl                    ...                                           \n",
       "ENSG00000254692 -0.404351  ... -0.002590 -0.002070  0.002401  0.003802   \n",
       "ENSG00000131747 -0.035698  ... -0.046726 -0.005839 -0.018328 -0.003894   \n",
       "ENSG00000165275 -0.299540  ...  0.024222 -0.006081  0.031750 -0.004874   \n",
       "ENSG00000138160 -0.239267  ... -0.017084  0.003806  0.002640  0.019940   \n",
       "ENSG00000133612  0.083761  ... -0.001807 -0.014019 -0.002411  0.000069   \n",
       "\n",
       "                       99  OMIM_pos  PROG_F_pos  PROG_UF_pos  CANCER_FPKM_pos  \\\n",
       "Ensembl                                                                         \n",
       "ENSG00000254692  0.002711         0           0            0                0   \n",
       "ENSG00000131747 -0.058346         0           0            1                0   \n",
       "ENSG00000165275  0.025895         0           1            0                0   \n",
       "ENSG00000138160 -0.002632         0           0            1                0   \n",
       "ENSG00000133612 -0.003030         0           0            0                0   \n",
       "\n",
       "                 Total_pos  \n",
       "Ensembl                     \n",
       "ENSG00000254692          0  \n",
       "ENSG00000131747          1  \n",
       "ENSG00000165275          1  \n",
       "ENSG00000138160          1  \n",
       "ENSG00000133612          0  \n",
       "\n",
       "[5 rows x 113 columns]"
      ]
     },
     "execution_count": 3,
     "metadata": {},
     "output_type": "execute_result"
    }
   ],
   "source": [
    "label_col = 'Total_pos'\n",
    "\n",
    "# TODO: shuffle HPA data\n",
    "\n",
    "filt = HPA_data[label_col] == 1\n",
    "pos_data = HPA_data[filt]\n",
    "num_pos = len(pos_data)\n",
    "neg_data = HPA_data[~filt].iloc[:num_pos]\n",
    "\n",
    "train_test_data = pos_data.append(neg_data)\n",
    "train_test_data = train_test_data.sample(frac=1)\n",
    "train_test_data.head()"
   ]
  },
  {
   "cell_type": "code",
   "execution_count": 4,
   "metadata": {},
   "outputs": [
    {
     "data": {
      "text/html": [
       "<div>\n",
       "<style scoped>\n",
       "    .dataframe tbody tr th:only-of-type {\n",
       "        vertical-align: middle;\n",
       "    }\n",
       "\n",
       "    .dataframe tbody tr th {\n",
       "        vertical-align: top;\n",
       "    }\n",
       "\n",
       "    .dataframe thead th {\n",
       "        text-align: right;\n",
       "    }\n",
       "</style>\n",
       "<table border=\"1\" class=\"dataframe\">\n",
       "  <thead>\n",
       "    <tr style=\"text-align: right;\">\n",
       "      <th></th>\n",
       "      <th>0</th>\n",
       "      <th>1</th>\n",
       "      <th>2</th>\n",
       "      <th>3</th>\n",
       "      <th>4</th>\n",
       "      <th>5</th>\n",
       "      <th>6</th>\n",
       "      <th>7</th>\n",
       "      <th>8</th>\n",
       "      <th>9</th>\n",
       "      <th>...</th>\n",
       "      <th>90</th>\n",
       "      <th>91</th>\n",
       "      <th>92</th>\n",
       "      <th>93</th>\n",
       "      <th>94</th>\n",
       "      <th>95</th>\n",
       "      <th>96</th>\n",
       "      <th>97</th>\n",
       "      <th>98</th>\n",
       "      <th>99</th>\n",
       "    </tr>\n",
       "    <tr>\n",
       "      <th>Ensembl</th>\n",
       "      <th></th>\n",
       "      <th></th>\n",
       "      <th></th>\n",
       "      <th></th>\n",
       "      <th></th>\n",
       "      <th></th>\n",
       "      <th></th>\n",
       "      <th></th>\n",
       "      <th></th>\n",
       "      <th></th>\n",
       "      <th></th>\n",
       "      <th></th>\n",
       "      <th></th>\n",
       "      <th></th>\n",
       "      <th></th>\n",
       "      <th></th>\n",
       "      <th></th>\n",
       "      <th></th>\n",
       "      <th></th>\n",
       "      <th></th>\n",
       "      <th></th>\n",
       "    </tr>\n",
       "  </thead>\n",
       "  <tbody>\n",
       "    <tr>\n",
       "      <th>ENSG00000254692</th>\n",
       "      <td>0.182367</td>\n",
       "      <td>-0.404351</td>\n",
       "      <td>0.653869</td>\n",
       "      <td>0.045736</td>\n",
       "      <td>-0.337307</td>\n",
       "      <td>0.225691</td>\n",
       "      <td>-0.229722</td>\n",
       "      <td>-0.064069</td>\n",
       "      <td>-0.121250</td>\n",
       "      <td>0.072755</td>\n",
       "      <td>...</td>\n",
       "      <td>0.008016</td>\n",
       "      <td>-0.001336</td>\n",
       "      <td>-0.000216</td>\n",
       "      <td>0.003683</td>\n",
       "      <td>0.001125</td>\n",
       "      <td>-0.002590</td>\n",
       "      <td>-0.002070</td>\n",
       "      <td>0.002401</td>\n",
       "      <td>0.003802</td>\n",
       "      <td>0.002711</td>\n",
       "    </tr>\n",
       "    <tr>\n",
       "      <th>ENSG00000131747</th>\n",
       "      <td>1.545940</td>\n",
       "      <td>-0.035698</td>\n",
       "      <td>-0.394453</td>\n",
       "      <td>0.400871</td>\n",
       "      <td>0.390605</td>\n",
       "      <td>0.793767</td>\n",
       "      <td>0.128098</td>\n",
       "      <td>0.096271</td>\n",
       "      <td>0.462357</td>\n",
       "      <td>0.039422</td>\n",
       "      <td>...</td>\n",
       "      <td>0.050982</td>\n",
       "      <td>-0.046663</td>\n",
       "      <td>0.035733</td>\n",
       "      <td>-0.023324</td>\n",
       "      <td>0.007467</td>\n",
       "      <td>-0.046726</td>\n",
       "      <td>-0.005839</td>\n",
       "      <td>-0.018328</td>\n",
       "      <td>-0.003894</td>\n",
       "      <td>-0.058346</td>\n",
       "    </tr>\n",
       "    <tr>\n",
       "      <th>ENSG00000165275</th>\n",
       "      <td>1.152200</td>\n",
       "      <td>-0.299540</td>\n",
       "      <td>-0.769891</td>\n",
       "      <td>0.167567</td>\n",
       "      <td>-0.750713</td>\n",
       "      <td>0.029751</td>\n",
       "      <td>0.149351</td>\n",
       "      <td>0.386945</td>\n",
       "      <td>-0.038403</td>\n",
       "      <td>-0.201880</td>\n",
       "      <td>...</td>\n",
       "      <td>-0.109284</td>\n",
       "      <td>0.034729</td>\n",
       "      <td>-0.031382</td>\n",
       "      <td>-0.040707</td>\n",
       "      <td>-0.007831</td>\n",
       "      <td>0.024222</td>\n",
       "      <td>-0.006081</td>\n",
       "      <td>0.031750</td>\n",
       "      <td>-0.004874</td>\n",
       "      <td>0.025895</td>\n",
       "    </tr>\n",
       "    <tr>\n",
       "      <th>ENSG00000138160</th>\n",
       "      <td>1.361867</td>\n",
       "      <td>-0.239267</td>\n",
       "      <td>-0.188750</td>\n",
       "      <td>-0.097263</td>\n",
       "      <td>0.984680</td>\n",
       "      <td>-0.131822</td>\n",
       "      <td>-0.142095</td>\n",
       "      <td>0.342607</td>\n",
       "      <td>-0.102758</td>\n",
       "      <td>1.224565</td>\n",
       "      <td>...</td>\n",
       "      <td>0.007774</td>\n",
       "      <td>-0.011807</td>\n",
       "      <td>0.095089</td>\n",
       "      <td>-0.007062</td>\n",
       "      <td>0.006514</td>\n",
       "      <td>-0.017084</td>\n",
       "      <td>0.003806</td>\n",
       "      <td>0.002640</td>\n",
       "      <td>0.019940</td>\n",
       "      <td>-0.002632</td>\n",
       "    </tr>\n",
       "    <tr>\n",
       "      <th>ENSG00000133612</th>\n",
       "      <td>0.808818</td>\n",
       "      <td>0.083761</td>\n",
       "      <td>-0.181320</td>\n",
       "      <td>-0.529260</td>\n",
       "      <td>-0.087528</td>\n",
       "      <td>-0.115068</td>\n",
       "      <td>-0.145428</td>\n",
       "      <td>0.007115</td>\n",
       "      <td>-0.035359</td>\n",
       "      <td>-0.042402</td>\n",
       "      <td>...</td>\n",
       "      <td>-0.004531</td>\n",
       "      <td>-0.000309</td>\n",
       "      <td>-0.006272</td>\n",
       "      <td>-0.005092</td>\n",
       "      <td>0.004168</td>\n",
       "      <td>-0.001807</td>\n",
       "      <td>-0.014019</td>\n",
       "      <td>-0.002411</td>\n",
       "      <td>0.000069</td>\n",
       "      <td>-0.003030</td>\n",
       "    </tr>\n",
       "  </tbody>\n",
       "</table>\n",
       "<p>5 rows × 100 columns</p>\n",
       "</div>"
      ],
      "text/plain": [
       "                        0         1         2         3         4         5  \\\n",
       "Ensembl                                                                       \n",
       "ENSG00000254692  0.182367 -0.404351  0.653869  0.045736 -0.337307  0.225691   \n",
       "ENSG00000131747  1.545940 -0.035698 -0.394453  0.400871  0.390605  0.793767   \n",
       "ENSG00000165275  1.152200 -0.299540 -0.769891  0.167567 -0.750713  0.029751   \n",
       "ENSG00000138160  1.361867 -0.239267 -0.188750 -0.097263  0.984680 -0.131822   \n",
       "ENSG00000133612  0.808818  0.083761 -0.181320 -0.529260 -0.087528 -0.115068   \n",
       "\n",
       "                        6         7         8         9  ...        90  \\\n",
       "Ensembl                                                  ...             \n",
       "ENSG00000254692 -0.229722 -0.064069 -0.121250  0.072755  ...  0.008016   \n",
       "ENSG00000131747  0.128098  0.096271  0.462357  0.039422  ...  0.050982   \n",
       "ENSG00000165275  0.149351  0.386945 -0.038403 -0.201880  ... -0.109284   \n",
       "ENSG00000138160 -0.142095  0.342607 -0.102758  1.224565  ...  0.007774   \n",
       "ENSG00000133612 -0.145428  0.007115 -0.035359 -0.042402  ... -0.004531   \n",
       "\n",
       "                       91        92        93        94        95        96  \\\n",
       "Ensembl                                                                       \n",
       "ENSG00000254692 -0.001336 -0.000216  0.003683  0.001125 -0.002590 -0.002070   \n",
       "ENSG00000131747 -0.046663  0.035733 -0.023324  0.007467 -0.046726 -0.005839   \n",
       "ENSG00000165275  0.034729 -0.031382 -0.040707 -0.007831  0.024222 -0.006081   \n",
       "ENSG00000138160 -0.011807  0.095089 -0.007062  0.006514 -0.017084  0.003806   \n",
       "ENSG00000133612 -0.000309 -0.006272 -0.005092  0.004168 -0.001807 -0.014019   \n",
       "\n",
       "                       97        98        99  \n",
       "Ensembl                                        \n",
       "ENSG00000254692  0.002401  0.003802  0.002711  \n",
       "ENSG00000131747 -0.018328 -0.003894 -0.058346  \n",
       "ENSG00000165275  0.031750 -0.004874  0.025895  \n",
       "ENSG00000138160  0.002640  0.019940 -0.002632  \n",
       "ENSG00000133612 -0.002411  0.000069 -0.003030  \n",
       "\n",
       "[5 rows x 100 columns]"
      ]
     },
     "execution_count": 4,
     "metadata": {},
     "output_type": "execute_result"
    }
   ],
   "source": [
    "labels = train_test_data[label_col]\n",
    "\n",
    "feature_cols = [str(i) for i in range(100)]\n",
    "feat_data = train_test_data[feature_cols]\n",
    "feat_data.head()"
   ]
  },
  {
   "cell_type": "code",
   "execution_count": 5,
   "metadata": {},
   "outputs": [
    {
     "name": "stdout",
     "output_type": "stream",
     "text": [
      "n_samples:  1688\n"
     ]
    }
   ],
   "source": [
    "print('n_samples: ', len(feat_data))"
   ]
  },
  {
   "cell_type": "code",
   "execution_count": 6,
   "metadata": {},
   "outputs": [],
   "source": [
    "# Train-Test Split\n",
    "from sklearn.model_selection import train_test_split\n",
    "X_train, X_test, y_train, y_test = train_test_split(feat_data, labels, test_size=0.2)"
   ]
  },
  {
   "cell_type": "markdown",
   "metadata": {},
   "source": [
    "## Modeling"
   ]
  },
  {
   "cell_type": "markdown",
   "metadata": {},
   "source": [
    "### Random Forest"
   ]
  },
  {
   "cell_type": "code",
   "execution_count": 7,
   "metadata": {},
   "outputs": [
    {
     "data": {
      "text/plain": [
       "RandomForestClassifier()"
      ]
     },
     "execution_count": 7,
     "metadata": {},
     "output_type": "execute_result"
    }
   ],
   "source": [
    "# random forest\n",
    "from sklearn.ensemble import RandomForestClassifier\n",
    "\n",
    "# define RF classifier\n",
    "rf_clf = RandomForestClassifier(n_estimators=100)#, max_depth=5)\n",
    "\n",
    "# fit classifier\n",
    "rf_clf.fit(X_train, y_train)"
   ]
  },
  {
   "cell_type": "code",
   "execution_count": 8,
   "metadata": {},
   "outputs": [
    {
     "data": {
      "text/plain": [
       "0.8792592592592593"
      ]
     },
     "execution_count": 8,
     "metadata": {},
     "output_type": "execute_result"
    }
   ],
   "source": [
    "rf_clf.score(X_train, y_train)"
   ]
  },
  {
   "cell_type": "code",
   "execution_count": 9,
   "metadata": {},
   "outputs": [
    {
     "data": {
      "text/plain": [
       "0.7011834319526628"
      ]
     },
     "execution_count": 9,
     "metadata": {},
     "output_type": "execute_result"
    }
   ],
   "source": [
    "rf_clf.score(X_test, y_test)"
   ]
  },
  {
   "cell_type": "markdown",
   "metadata": {},
   "source": [
    "### Adaboost"
   ]
  },
  {
   "cell_type": "code",
   "execution_count": 10,
   "metadata": {},
   "outputs": [
    {
     "data": {
      "text/plain": [
       "AdaBoostClassifier(n_estimators=100)"
      ]
     },
     "execution_count": 10,
     "metadata": {},
     "output_type": "execute_result"
    }
   ],
   "source": [
    "from sklearn.ensemble import AdaBoostClassifier\n",
    "\n",
    "# define Adaboost classifier\n",
    "ada_clf = AdaBoostClassifier(n_estimators=100, algorithm='SAMME.R')\n",
    "\n",
    "# fit classifier\n",
    "ada_clf.fit(X_train, y_train)"
   ]
  },
  {
   "cell_type": "code",
   "execution_count": 11,
   "metadata": {},
   "outputs": [
    {
     "data": {
      "text/plain": [
       "0.82"
      ]
     },
     "execution_count": 11,
     "metadata": {},
     "output_type": "execute_result"
    }
   ],
   "source": [
    "ada_clf.score(X_train, y_train)"
   ]
  },
  {
   "cell_type": "code",
   "execution_count": 12,
   "metadata": {},
   "outputs": [
    {
     "data": {
      "text/plain": [
       "0.6715976331360947"
      ]
     },
     "execution_count": 12,
     "metadata": {},
     "output_type": "execute_result"
    }
   ],
   "source": [
    "ada_clf.score(X_test, y_test)"
   ]
  },
  {
   "cell_type": "markdown",
   "metadata": {},
   "source": [
    "### GradBoost"
   ]
  },
  {
   "cell_type": "code",
   "execution_count": 13,
   "metadata": {},
   "outputs": [
    {
     "data": {
      "text/plain": [
       "GradientBoostingClassifier()"
      ]
     },
     "execution_count": 13,
     "metadata": {},
     "output_type": "execute_result"
    }
   ],
   "source": [
    "from sklearn.ensemble import GradientBoostingClassifier\n",
    "\n",
    "# define GradBoost classifier\n",
    "\n",
    "gb_clf = GradientBoostingClassifier(loss='deviance', n_estimators=100, criterion='friedman_mse')\n",
    "\n",
    "# fit classifier\n",
    "gb_clf.fit(X_train, y_train)"
   ]
  },
  {
   "cell_type": "code",
   "execution_count": 14,
   "metadata": {},
   "outputs": [
    {
     "data": {
      "text/plain": [
       "0.8481481481481481"
      ]
     },
     "execution_count": 14,
     "metadata": {},
     "output_type": "execute_result"
    }
   ],
   "source": [
    "gb_clf.score(X_train, y_train)"
   ]
  },
  {
   "cell_type": "code",
   "execution_count": 15,
   "metadata": {},
   "outputs": [
    {
     "data": {
      "text/plain": [
       "0.7159763313609467"
      ]
     },
     "execution_count": 15,
     "metadata": {},
     "output_type": "execute_result"
    }
   ],
   "source": [
    "gb_clf.score(X_test, y_test)"
   ]
  },
  {
   "cell_type": "markdown",
   "metadata": {},
   "source": [
    "### Grid Search over Parameters"
   ]
  },
  {
   "cell_type": "code",
   "execution_count": 16,
   "metadata": {},
   "outputs": [
    {
     "name": "stdout",
     "output_type": "stream",
     "text": [
      "Fitting 5 folds for each of 32 candidates, totalling 160 fits\n"
     ]
    },
    {
     "data": {
      "text/plain": [
       "GridSearchCV(cv=5, estimator=GradientBoostingClassifier(), n_jobs=-1,\n",
       "             param_grid={'criterion': ['friedman_mse'],\n",
       "                         'learning_rate': [0.01, 0.05, 0.1, 0.2],\n",
       "                         'loss': ['deviance', 'exponential'],\n",
       "                         'n_estimators': [20, 50, 100, 150]},\n",
       "             verbose=4)"
      ]
     },
     "execution_count": 16,
     "metadata": {},
     "output_type": "execute_result"
    }
   ],
   "source": [
    "from sklearn.model_selection import GridSearchCV\n",
    "\n",
    "gradboost_clf = GradientBoostingClassifier()\n",
    "params = {\n",
    "            'n_estimators': [20, 50, 100, 150],\n",
    "            'learning_rate': [0.01, 0.05, 0.1, 0.2],\n",
    "            'loss': ['deviance', 'exponential'],\n",
    "            'criterion':['friedman_mse']\n",
    "         }\n",
    "\n",
    "# n_jobs=-1 => use all processors\n",
    "gridsearch_clf = GridSearchCV(gradboost_clf, param_grid=params, refit=True, cv=5, n_jobs=-1, verbose=4)\n",
    "\n",
    "gridsearch_clf.fit(X_train, y_train)"
   ]
  },
  {
   "cell_type": "code",
   "execution_count": 18,
   "metadata": {},
   "outputs": [
    {
     "data": {
      "text/plain": [
       "{'criterion': 'friedman_mse',\n",
       " 'learning_rate': 0.1,\n",
       " 'loss': 'exponential',\n",
       " 'n_estimators': 100}"
      ]
     },
     "execution_count": 18,
     "metadata": {},
     "output_type": "execute_result"
    }
   ],
   "source": [
    "gridsearch_clf.best_params_"
   ]
  },
  {
   "cell_type": "code",
   "execution_count": 19,
   "metadata": {},
   "outputs": [
    {
     "data": {
      "text/plain": [
       "0.6725925925925924"
      ]
     },
     "execution_count": 19,
     "metadata": {},
     "output_type": "execute_result"
    }
   ],
   "source": [
    "gridsearch_clf.best_score_"
   ]
  },
  {
   "cell_type": "code",
   "execution_count": 20,
   "metadata": {},
   "outputs": [
    {
     "data": {
      "text/plain": [
       "0.7130177514792899"
      ]
     },
     "execution_count": 20,
     "metadata": {},
     "output_type": "execute_result"
    }
   ],
   "source": [
    "gridsearch_clf.score(X_test, y_test)"
   ]
  },
  {
   "cell_type": "markdown",
   "metadata": {},
   "source": [
    "## Conclusion\n",
    "\n",
    "It appears the node features have some notable correlation with the labels (whether or not a gene shows up in an OMIM search for LUAD)."
   ]
  }
 ],
 "metadata": {
  "interpreter": {
   "hash": "c536624f42ad28a25b71910f95eefc8498c618baf8c306d00b21bed7daec08b1"
  },
  "kernelspec": {
   "display_name": "Python 3.8.0 64-bit ('projectx': conda)",
   "name": "python3"
  },
  "language_info": {
   "codemirror_mode": {
    "name": "ipython",
    "version": 3
   },
   "file_extension": ".py",
   "mimetype": "text/x-python",
   "name": "python",
   "nbconvert_exporter": "python",
   "pygments_lexer": "ipython3",
   "version": "3.8.0"
  },
  "orig_nbformat": 4
 },
 "nbformat": 4,
 "nbformat_minor": 2
}
