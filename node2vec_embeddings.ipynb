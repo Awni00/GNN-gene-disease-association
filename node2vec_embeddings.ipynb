{
 "cells": [
  {
   "cell_type": "code",
   "execution_count": 1,
   "metadata": {},
   "outputs": [],
   "source": [
    "import numpy as np\n",
    "from pecanpy import node2vec"
   ]
  },
  {
   "cell_type": "code",
   "execution_count": 2,
   "metadata": {},
   "outputs": [],
   "source": [
    "edge_list = np.load('data/link_list.npy')\n",
    "protein_ids_dict = np.load('data/protein_ids_dict.npy', allow_pickle=True)\n",
    "protein_labels = np.load('data/protein_labels.npy')"
   ]
  },
  {
   "cell_type": "code",
   "execution_count": 3,
   "metadata": {},
   "outputs": [],
   "source": [
    "np.savetxt('data/edge_list.edg', edge_list, delimiter='\\t')"
   ]
  },
  {
   "cell_type": "code",
   "execution_count": 4,
   "metadata": {},
   "outputs": [],
   "source": [
    "g = node2vec.SparseOTF(p=1, q=1, workers=4, verbose=True)"
   ]
  },
  {
   "cell_type": "code",
   "execution_count": 5,
   "metadata": {},
   "outputs": [],
   "source": [
    "g.read_edg(\"data/edge_list.edg\", weighted=False, directed=False)"
   ]
  },
  {
   "cell_type": "code",
   "execution_count": 6,
   "metadata": {},
   "outputs": [
    {
     "name": "stdout",
     "output_type": "stream",
     "text": [
      "Thread #  6 progress: |###                      | 9.99 %\n",
      "Thread #  2 progress: |###                      | 9.99 %\n",
      "Thread #  5 progress: |###                      | 9.99 %\n",
      "Thread #  1 progress: |###                      | 9.99 %\n",
      "Thread #  4 progress: |###                      | 9.99 %\n",
      "Thread #  3 progress: |###                      | 9.99 %\n",
      "Thread #  7 progress: |###                      | 9.99 %\n",
      "Thread #  0 progress: |###                      | 9.99 %\n",
      "Thread #  2 progress: |#####                    | 19.99 %\n",
      "Thread #  6 progress: |#####                    | 19.99 %\n",
      "Thread #  5 progress: |#####                    | 19.99 %\n",
      "Thread #  1 progress: |#####                    | 19.99 %\n",
      "Thread #  4 progress: |#####                    | 19.99 %\n",
      "Thread #  7 progress: |#####                    | 19.99 %\n",
      "Thread #  3 progress: |#####                    | 19.99 %\n",
      "Thread #  0 progress: |#####                    | 19.99 %\n",
      "Thread #  2 progress: |########                 | 29.99 %\n",
      "Thread #  6 progress: |########                 | 29.99 %\n",
      "Thread #  5 progress: |########                 | 29.99 %\n",
      "Thread #  1 progress: |########                 | 29.99 %\n",
      "Thread #  4 progress: |########                 | 29.99 %\n",
      "Thread #  7 progress: |########                 | 29.99 %\n",
      "Thread #  3 progress: |########                 | 29.99 %\n",
      "Thread #  0 progress: |########                 | 29.99 %\n",
      "Thread #  6 progress: |##########               | 39.99 %\n",
      "Thread #  2 progress: |##########               | 39.99 %\n",
      "Thread #  1 progress: |##########               | 39.99 %\n",
      "Thread #  5 progress: |##########               | 39.99 %\n",
      "Thread #  4 progress: |##########               | 39.99 %\n",
      "Thread #  2 progress: |#############            | 49.99 %\n",
      "Thread #  6 progress: |#############            | 49.99 %\n",
      "Thread #  1 progress: |#############            | 49.99 %\n",
      "Thread #  5 progress: |#############            | 49.99 %\n",
      "Thread #  7 progress: |##########               | 39.99 %\n",
      "Thread #  3 progress: |##########               | 39.99 %\n",
      "Thread #  0 progress: |##########               | 39.99 %\n",
      "Thread #  2 progress: |###############          | 59.99 %\n",
      "Thread #  6 progress: |###############          | 59.99 %\n",
      "Thread #  1 progress: |###############          | 59.99 %\n",
      "Thread #  5 progress: |###############          | 59.99 %\n",
      "Thread #  4 progress: |#############            | 49.99 %\n",
      "Thread #  7 progress: |#############            | 49.99 %\n",
      "Thread #  3 progress: |#############            | 49.99 %\n",
      "Thread #  0 progress: |#############            | 49.99 %\n",
      "Thread #  2 progress: |##################       | 69.99 %\n",
      "Thread #  6 progress: |##################       | 69.99 %\n",
      "Thread #  1 progress: |##################       | 69.99 %\n",
      "Thread #  5 progress: |##################       | 69.99 %\n",
      "Thread #  4 progress: |###############          | 59.99 %\n",
      "Thread #  7 progress: |###############          | 59.99 %\n",
      "Thread #  3 progress: |###############          | 59.99 %\n",
      "Thread #  0 progress: |###############          | 59.99 %\n",
      "Thread #  2 progress: |####################     | 79.99 %\n",
      "Thread #  6 progress: |####################     | 79.99 %\n",
      "Thread #  1 progress: |####################     | 79.99 %\n",
      "Thread #  5 progress: |####################     | 79.99 %\n",
      "Thread #  4 progress: |##################       | 69.99 %\n",
      "Thread #  7 progress: |##################       | 69.99 %\n",
      "Thread #  3 progress: |##################       | 69.99 %\n",
      "Thread #  0 progress: |##################       | 69.99 %\n",
      "Thread #  6 progress: |#######################  | 89.99 %\n",
      "Thread #  2 progress: |#######################  | 89.99 %\n",
      "Thread #  1 progress: |#######################  | 89.99 %\n",
      "Thread #  5 progress: |#######################  | 89.99 %\n",
      "Thread #  4 progress: |####################     | 79.99 %\n",
      "Thread #  7 progress: |####################     | 79.99 %\n",
      "Thread #  3 progress: |####################     | 79.99 %\n",
      "Thread #  6 progress: |#########################| 99.99 %\n",
      "Thread #  2 progress: |#########################| 99.99 %\n",
      "Thread #  1 progress: |#########################| 99.99 %\n",
      "Thread #  5 progress: |#########################| 99.99 %\n",
      "Thread #  0 progress: |####################     | 79.99 %\n",
      "Thread #  4 progress: |#######################  | 89.99 %\n",
      "Thread #  7 progress: |#######################  | 89.99 %\n",
      "Thread #  3 progress: |#######################  | 89.99 %\n",
      "Thread #  0 progress: |#######################  | 89.99 %\n",
      "Thread #  4 progress: |#########################| 99.99 %\n",
      "Thread #  7 progress: |#########################| 99.99 %\n",
      "Thread #  3 progress: |#########################| 99.99 %\n",
      "Thread #  0 progress: |#########################| 99.99 %\n"
     ]
    }
   ],
   "source": [
    "# # generate random walks\n",
    "# walks = g.simulate_walks(num_walks=10, walk_length=80)\n",
    "\n",
    "# alternatively, generate the embeddings directly using ``embed``\n",
    "emd = g.embed()"
   ]
  },
  {
   "cell_type": "code",
   "execution_count": 13,
   "metadata": {},
   "outputs": [],
   "source": [
    "np.save('data/node_embeddings', emd)"
   ]
  }
 ],
 "metadata": {
  "interpreter": {
   "hash": "c536624f42ad28a25b71910f95eefc8498c618baf8c306d00b21bed7daec08b1"
  },
  "kernelspec": {
   "display_name": "Python 3.8.0 64-bit ('projectx': conda)",
   "name": "python3"
  },
  "language_info": {
   "codemirror_mode": {
    "name": "ipython",
    "version": 3
   },
   "file_extension": ".py",
   "mimetype": "text/x-python",
   "name": "python",
   "nbconvert_exporter": "python",
   "pygments_lexer": "ipython3",
   "version": "3.8.0"
  },
  "orig_nbformat": 4
 },
 "nbformat": 4,
 "nbformat_minor": 2
}
