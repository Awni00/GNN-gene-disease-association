{
 "cells": [
  {
   "cell_type": "code",
   "execution_count": null,
   "metadata": {},
   "outputs": [],
   "source": [
    "import numpy as np\n",
    "from pecanpy import node2vec"
   ]
  },
  {
   "cell_type": "code",
   "execution_count": null,
   "metadata": {},
   "outputs": [],
   "source": [
    "g = node2vec.SparseOTF(p=1, q=1, workers=4, verbose=True)"
   ]
  },
  {
   "cell_type": "code",
   "execution_count": null,
   "metadata": {},
   "outputs": [],
   "source": [
    "g.read_edg(\"data/PPI_filtered.edg\", weighted=False, directed=False)"
   ]
  },
  {
   "cell_type": "code",
   "execution_count": null,
   "metadata": {},
   "outputs": [],
   "source": [
    "# # generate random walks\n",
    "# walks = g.simulate_walks(num_walks=10, walk_length=80)\n",
    "\n",
    "# generate embeddings\n",
    "emd = g.embed(dim=128, num_walks=10, walk_length=80, window_size=10, epochs=1)"
   ]
  },
  {
   "cell_type": "code",
   "execution_count": null,
   "metadata": {},
   "outputs": [],
   "source": [
    "data = {'ID_map': g.IDmap, 'ID_list': g.IDlst, 'embeddings': emd}\n",
    "\n",
    "np.save('data/PPI_node_embeddings.npy', data)"
   ]
  },
  {
   "cell_type": "code",
   "execution_count": null,
   "metadata": {},
   "outputs": [],
   "source": [
    "import pandas as pd\n",
    "pd.DataFrame(emd, g.IDlst).to_csv('data/PPI_node_embeddings.csv')"
   ]
  }
 ],
 "metadata": {
  "interpreter": {
   "hash": "c536624f42ad28a25b71910f95eefc8498c618baf8c306d00b21bed7daec08b1"
  },
  "kernelspec": {
   "display_name": "Python 3.8.0 64-bit ('projectx': conda)",
   "name": "python3"
  },
  "language_info": {
   "codemirror_mode": {
    "name": "ipython",
    "version": 3
   },
   "file_extension": ".py",
   "mimetype": "text/x-python",
   "name": "python",
   "nbconvert_exporter": "python",
   "pygments_lexer": "ipython3",
   "version": "3.8.0"
  },
  "orig_nbformat": 4
 },
 "nbformat": 4,
 "nbformat_minor": 2
}
